{
 "cells": [
  {
   "cell_type": "code",
   "execution_count": 3,
   "metadata": {},
   "outputs": [
    {
     "name": "stdout",
     "output_type": "stream",
     "text": [
      "Enter marks of subject 1: 94\n",
      "Enter marks of subject 2: 96\n",
      "Enter marks of subject 3: 96\n",
      "Enter marks of subject 4: 82\n",
      "Enter marks of subject 5: 88\n",
      "Grade: A\n"
     ]
    }
   ],
   "source": [
    "sub1 = int(input(\"Enter marks of subject 1: \"))\n",
    "sub2 = int(input(\"Enter marks of subject 2: \"))\n",
    "sub3 = int(input(\"Enter marks of subject 3: \"))\n",
    "sub4 = int(input(\"Enter marks of subject 4: \"))\n",
    "sub5 = int(input(\"Enter marks of subject 5: \"))\n",
    "\n",
    "avg = (sub1+sub2+sub3+sub4+sub5)/5\n",
    "\n",
    "if(sub1<=100 and sub2<=100 and sub3<=100 and sub4<=100 and sub5<=100):\n",
    "    \n",
    "    if(avg>=90):\n",
    "        print(\"Grade: A\")\n",
    "        \n",
    "    elif(avg>=80 and avg<90):\n",
    "        print(\"Grade: B\")\n",
    "    elif(avg>=70 and avg<80):\n",
    "        print(\"Grade: C\")\n",
    "        \n",
    "    elif(avg>=60 and avg<70):\n",
    "        print(\"Grade: D\")\n",
    "    else:\n",
    "        print(\"Grade: F\")\n",
    "else:\n",
    "    print(\"Please enter the marks of subject between 0 to 100\")\n",
    "    "
   ]
  },
  {
   "cell_type": "code",
   "execution_count": 6,
   "metadata": {},
   "outputs": [
    {
     "name": "stdout",
     "output_type": "stream",
     "text": [
      "Enter Number: 7\n",
      "The Number is odd!\n"
     ]
    }
   ],
   "source": [
    "num = int(input(\"Enter Number: \"))\n",
    "if(num%2==0):\n",
    "    print(\"The Number is even!\")\n",
    "else:\n",
    "    print(\"The Number is odd!\")"
   ]
  },
  {
   "cell_type": "code",
   "execution_count": 18,
   "metadata": {},
   "outputs": [
    {
     "name": "stdout",
     "output_type": "stream",
     "text": [
      "How many numbers: 3\n",
      "Enter number 1\n",
      "Enter number 2\n",
      "Enter number 3\n",
      "The length of the list:  3\n"
     ]
    }
   ],
   "source": [
    "list = []\n",
    "num = int(input('How many numbers: '))\n",
    "for n in range(num):\n",
    "    numbers = int(input('Enter number '))\n",
    "    list.append(numbers)\n",
    "print(\"The length of the list: \",len(list))"
   ]
  },
  {
   "cell_type": "code",
   "execution_count": 17,
   "metadata": {},
   "outputs": [
    {
     "name": "stdout",
     "output_type": "stream",
     "text": [
      "How many numbers: 2\n",
      "Enter number 2\n",
      "Enter number 2\n",
      "Sum of elements in given list is : 4\n"
     ]
    }
   ],
   "source": [
    "list = []\n",
    "num = int(input('How many numbers: '))\n",
    "for n in range(num):\n",
    "    numbers = int(input('Enter number '))\n",
    "    list.append(numbers)\n",
    "print(\"Sum of elements in given list is :\", sum(list))"
   ]
  },
  {
   "cell_type": "code",
   "execution_count": 19,
   "metadata": {},
   "outputs": [
    {
     "name": "stdout",
     "output_type": "stream",
     "text": [
      "How many numbers: 3\n",
      "Enter number 4\n",
      "Enter number 26\n",
      "Enter number 12\n",
      "Largest number from the list:  26\n"
     ]
    }
   ],
   "source": [
    "list = []\n",
    "num = int(input('How many numbers: '))\n",
    "for n in range(num):\n",
    "    numbers = int(input('Enter number '))\n",
    "    list.append(numbers)\n",
    "print(\"Largest number from the list: \",max(list))"
   ]
  },
  {
   "cell_type": "code",
   "execution_count": 25,
   "metadata": {},
   "outputs": [
    {
     "name": "stdout",
     "output_type": "stream",
     "text": [
      "List:  [1, 1, 2, 3, 5, 8, 13, 21, 34, 55, 89]\n",
      "1\n",
      "1\n",
      "2\n",
      "3\n"
     ]
    }
   ],
   "source": [
    "a = [1, 1, 2, 3, 5, 8, 13, 21, 34, 55, 89]\n",
    "print(\"List: \",a)\n",
    "\n",
    "for n in range(len(a)):\n",
    "    if(a[n]<5):\n",
    "        print(a[n])\n",
    "        \n",
    "    "
   ]
  },
  {
   "cell_type": "code",
   "execution_count": null,
   "metadata": {},
   "outputs": [],
   "source": []
  }
 ],
 "metadata": {
  "kernelspec": {
   "display_name": "Python 3",
   "language": "python",
   "name": "python3"
  },
  "language_info": {
   "codemirror_mode": {
    "name": "ipython",
    "version": 3
   },
   "file_extension": ".py",
   "mimetype": "text/x-python",
   "name": "python",
   "nbconvert_exporter": "python",
   "pygments_lexer": "ipython3",
   "version": "3.7.3"
  }
 },
 "nbformat": 4,
 "nbformat_minor": 2
}
