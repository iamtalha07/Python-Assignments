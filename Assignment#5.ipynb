{
 "cells": [
  {
   "cell_type": "code",
   "execution_count": 5,
   "metadata": {},
   "outputs": [
    {
     "name": "stdout",
     "output_type": "stream",
     "text": [
      "Input a number to compute the factiorial : 5\n",
      "120\n"
     ]
    }
   ],
   "source": [
    "def factorial(n):\n",
    "    if n == 0:\n",
    "        return 1\n",
    "    elif n < 0:\n",
    "        msg=\"Error\"\n",
    "        return msg\n",
    "    else:\n",
    "        return n * factorial(n-1)\n",
    "    \n",
    "n=int(input(\"Input a number to compute the factiorial : \"))\n",
    "print(factorial(n))"
   ]
  },
  {
   "cell_type": "code",
   "execution_count": 7,
   "metadata": {},
   "outputs": [
    {
     "name": "stdout",
     "output_type": "stream",
     "text": [
      "original string: The quick Brown Fox\n",
      "No. Upper letter:  3\n",
      "No. of lower letter:  13\n"
     ]
    }
   ],
   "source": [
    "def myfunc(a):\n",
    "    upper=0\n",
    "    lower=0\n",
    "    for c in a:\n",
    "        if c.isupper():\n",
    "            upper+=1\n",
    "        elif c.islower():\n",
    "            lower+=1\n",
    "    print(\"original string: \"+a)\n",
    "    print(\"No. Upper letter: \",upper)\n",
    "    print(\"No. of lower letter: \",lower)\n",
    "    \n",
    "myfunc(\"The quick Brown Fox\")"
   ]
  },
  {
   "cell_type": "code",
   "execution_count": 10,
   "metadata": {},
   "outputs": [
    {
     "name": "stdout",
     "output_type": "stream",
     "text": [
      "2\n",
      "4\n",
      "6\n",
      "8\n",
      "10\n",
      "12\n"
     ]
    }
   ],
   "source": [
    "list=[1,2,3,4,5,6,7,8,9,10,11,12]\n",
    "\n",
    "def even(list):\n",
    "    for num in list:\n",
    "        if(num%2==0):\n",
    "            print(num)\n",
    "            \n",
    "even(list)"
   ]
  },
  {
   "cell_type": "code",
   "execution_count": 15,
   "metadata": {},
   "outputs": [
    {
     "name": "stdout",
     "output_type": "stream",
     "text": [
      "Enter a string: madam\n",
      "The given string is Palindrome\n"
     ]
    }
   ],
   "source": [
    "def reverse(s): \n",
    "    return s[::-1] \n",
    "  \n",
    "def isPalindrome(s): \n",
    "    rev = reverse(s) \n",
    "   \n",
    "    if (s == rev): \n",
    "        return True\n",
    "    return False\n",
    "  \n",
    "s = input(\"Enter a string: \")\n",
    "ans = isPalindrome(s)  \n",
    "if ans == True: \n",
    "    print(\"The given string is Palindrome\") \n",
    "else: \n",
    "    print(\"The given string is not Palindrome\") "
   ]
  },
  {
   "cell_type": "code",
   "execution_count": 25,
   "metadata": {},
   "outputs": [
    {
     "name": "stdout",
     "output_type": "stream",
     "text": [
      "Enter a number: 7\n",
      "7 is a prime number\n"
     ]
    }
   ],
   "source": [
    "def test_prime(num):\n",
    "    if num==1:\n",
    "        return False\n",
    "    elif num==2:\n",
    "        return True\n",
    "    else:\n",
    "        for n in range(2,num):\n",
    "            if(num%n==0):\n",
    "                return False\n",
    "        return True\n",
    "\n",
    "num = int(input(\"Enter a number: \"))\n",
    "if test_prime(num)== True:\n",
    "    print(str(num)+\" is a prime number\")\n",
    "else:\n",
    "    print(str(num)+\" is not a prime number\")"
   ]
  },
  {
   "cell_type": "code",
   "execution_count": 3,
   "metadata": {},
   "outputs": [
    {
     "name": "stdout",
     "output_type": "stream",
     "text": [
      "Customer no : 22\n",
      "Customer Name : talha\n",
      "\n",
      "Item list\n",
      "soap\n",
      "rice\n",
      "cookies\n",
      "baking powder\n"
     ]
    }
   ],
   "source": [
    "def myfunc(custno,name, *items):\n",
    "    print(\"Customer no : \"+str(custno))\n",
    "    print(\"Customer Name : \"+name)\n",
    "    print(\"\\nItem list\")\n",
    "    \n",
    "    for item in items:\n",
    "        print(item)\n",
    "custno=22\n",
    "name=\"talha\"\n",
    "myfunc(custno,name,\"soap\",\"rice\",\"cookies\",\"baking powder\")"
   ]
  }
 ],
 "metadata": {
  "kernelspec": {
   "display_name": "Python 3",
   "language": "python",
   "name": "python3"
  },
  "language_info": {
   "codemirror_mode": {
    "name": "ipython",
    "version": 3
   },
   "file_extension": ".py",
   "mimetype": "text/x-python",
   "name": "python",
   "nbconvert_exporter": "python",
   "pygments_lexer": "ipython3",
   "version": "3.7.3"
  }
 },
 "nbformat": 4,
 "nbformat_minor": 2
}
