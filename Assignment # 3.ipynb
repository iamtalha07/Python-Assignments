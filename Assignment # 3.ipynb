{
 "cells": [
  {
   "cell_type": "code",
   "execution_count": 9,
   "metadata": {},
   "outputs": [
    {
     "name": "stdout",
     "output_type": "stream",
     "text": [
      "Operation\n",
      "1. Addition \n",
      "2. Subtraction \n",
      "3. Multiplication \n",
      "4. Division \n",
      "5. Power\n",
      "Choose Opeation 1-5 : 6\n",
      "Error! Please select the operation correctly\n"
     ]
    }
   ],
   "source": [
    "print(\"Operation\")\n",
    "print(\"1. Addition \\n2. Subtraction \\n3. Multiplication \\n4. Division \\n5. Power\")\n",
    "operation = input(\"Choose Opeation 1-5 : \")\n",
    "\n",
    "\n",
    "if(operation==\"1\"):\n",
    "    num1 = int(input(\"Enter first number: \"))\n",
    "    num2 = int(input(\"Enter Second number: \"))\n",
    "    print(\"Result: \",num1+num2)\n",
    "    \n",
    "elif(operation==\"2\"):\n",
    "    num1 = int(input(\"Enter first number: \"))\n",
    "    num2 = int(input(\"Enter Second number: \"))\n",
    "    print(\"Result: \",num1-num2)\n",
    "    \n",
    "elif(operation==\"3\"):\n",
    "    num1 = int(input(\"Enter first number: \"))\n",
    "    num2 = int(input(\"Enter Second number: \"))\n",
    "    print(\"Result: \",num1*num2)\n",
    "    \n",
    "elif(operation==\"4\"):\n",
    "    num1 = int(input(\"Enter first number: \"))\n",
    "    num2 = int(input(\"Enter Second number: \"))\n",
    "    print(\"Result: \",num1/num2)\n",
    "    \n",
    "elif(operation==\"5\"):\n",
    "    num1 = int(input(\"Enter Number: \"))\n",
    "    num2 = int(input(\"Enter Power: \"))\n",
    "    print(\"Result: \",num1**num2)\n",
    "\n",
    "else:\n",
    "    print(\"Error! Please select the operation correctly\")"
   ]
  },
  {
   "cell_type": "code",
   "execution_count": 48,
   "metadata": {},
   "outputs": [
    {
     "name": "stdout",
     "output_type": "stream",
     "text": [
      "Numeric value:  0\n",
      "Not a numeric value b\n",
      "Numeric value:  1\n",
      "Not a numeric value c\n",
      "Numeric value:  3\n",
      "Numeric value:  4\n"
     ]
    }
   ],
   "source": [
    "list = [\"0\",\"b\",\"1\",\"c\",\"3\",\"4\"]\n",
    "for num in list:\n",
    "    if (num.isdigit()):\n",
    "        print(\"Numeric value: \",num)\n",
    "    else:\n",
    "        print(\"Not a numeric value\", num)\n",
    "       \n",
    "        "
   ]
  },
  {
   "cell_type": "code",
   "execution_count": 52,
   "metadata": {},
   "outputs": [
    {
     "name": "stdout",
     "output_type": "stream",
     "text": [
      "{'FirstName': 'Talha', 'LastName': 'Ishaq', 'Hobby': 'Coding'}\n"
     ]
    }
   ],
   "source": [
    "dic = {\"FirstName\":\"Talha\",\"LastName\":\"Ishaq\"}\n",
    "dic.update({\"Hobby\":\"Coding\"})\n",
    "print(dic)"
   ]
  },
  {
   "cell_type": "code",
   "execution_count": 54,
   "metadata": {},
   "outputs": [
    {
     "name": "stdout",
     "output_type": "stream",
     "text": [
      "200\n"
     ]
    }
   ],
   "source": [
    "dict = {'num 1':100,'num 2':50,'num 3':50}\n",
    "result = sum(dict.values())\n",
    "print(result)"
   ]
  },
  {
   "cell_type": "code",
   "execution_count": 63,
   "metadata": {},
   "outputs": [
    {
     "name": "stdout",
     "output_type": "stream",
     "text": [
      "1 Is a duplicate number\n",
      "2 Is a duplicate number\n"
     ]
    }
   ],
   "source": [
    "list1 = [1,2,3,1,2,4,5]\n",
    "list2=[]\n",
    "for i in list1:\n",
    "    if (i not in list2):\n",
    "        list2.append(i)\n",
    "    else:\n",
    "        print(i,\"Is a duplicate number\")\n",
    "\n",
    "    "
   ]
  },
  {
   "cell_type": "code",
   "execution_count": 67,
   "metadata": {},
   "outputs": [
    {
     "name": "stdout",
     "output_type": "stream",
     "text": [
      "Enter key: 4\n",
      "Key is not present in dictionary\n"
     ]
    }
   ],
   "source": [
    "d = {1:10,2:20,3:30}\n",
    "key = int(input(\"Enter key: \"))\n",
    "\n",
    "if key in d:\n",
    "    print(\"Key is present in dictionary\")\n",
    "else:\n",
    "    print(\"Key is not present in dictionary\")"
   ]
  },
  {
   "cell_type": "code",
   "execution_count": null,
   "metadata": {},
   "outputs": [],
   "source": []
  }
 ],
 "metadata": {
  "kernelspec": {
   "display_name": "Python 3",
   "language": "python",
   "name": "python3"
  },
  "language_info": {
   "codemirror_mode": {
    "name": "ipython",
    "version": 3
   },
   "file_extension": ".py",
   "mimetype": "text/x-python",
   "name": "python",
   "nbconvert_exporter": "python",
   "pygments_lexer": "ipython3",
   "version": "3.7.3"
  }
 },
 "nbformat": 4,
 "nbformat_minor": 2
}
