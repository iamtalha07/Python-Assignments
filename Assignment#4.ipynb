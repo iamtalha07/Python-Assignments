{
 "cells": [
  {
   "cell_type": "code",
   "execution_count": 1,
   "metadata": {},
   "outputs": [
    {
     "name": "stdout",
     "output_type": "stream",
     "text": [
      "{'first_name': 'Umer', 'last_name': 'Farooq', 'age': '22', 'city': 'Karachi'}\n",
      "Enter your Qualification: intermediate\n",
      "\n",
      "Dictonary after adding new key value \n",
      "\n",
      "{'first_name': 'Umer', 'last_name': 'Farooq', 'age': '22', 'city': 'Karachi', 'qualification': 'intermediate'}\n",
      "Update your Qualification: undergraduate\n",
      "\n",
      "Dictonary after updating \n",
      "\n",
      "{'first_name': 'Umer', 'last_name': 'Farooq', 'age': '22', 'city': 'Karachi', 'qualification': 'undergraduate'}\n",
      "\n",
      "Dictonary after deleting qualification \n",
      "\n",
      "{'first_name': 'Umer', 'last_name': 'Farooq', 'age': '22', 'city': 'Karachi'}\n"
     ]
    }
   ],
   "source": [
    "person = {\"first_name\" : \"Umer\", \"last_name\" : \"Farooq\", \"age\" : \"22\", \"city\" : \"Karachi\"}\n",
    "print(person)\n",
    "\n",
    "data = input(\"Enter your Qualification: \")\n",
    "person[\"qualification\"] = data\n",
    "print(\"\\nDictonary after adding new key value \\n\")\n",
    "print(person)\n",
    "\n",
    "update = input(\"Update your Qualification: \")\n",
    "person[\"qualification\"] = update\n",
    "print(\"\\nDictonary after updating \\n\")\n",
    "print(person)\n",
    "\n",
    "del person[\"qualification\"]\n",
    "print(\"\\nDictonary after deleting qualification \\n\")\n",
    "print(person)"
   ]
  },
  {
   "cell_type": "code",
   "execution_count": 2,
   "metadata": {},
   "outputs": [
    {
     "name": "stdout",
     "output_type": "stream",
     "text": [
      "City Name:  karachi\n",
      "Information:  {'population': '14.91 million', 'fact': 'Karachi is the capital of the Pakistani province of Sindh.', 'country': 'Pakistan'} \n",
      "\n",
      "City Name:  sydney\n",
      "Information:  {'population': '5.23 million', 'fact': \"Sydney, capital of New South Wales and one of Australia's largest cities\", 'country': 'Australia'} \n",
      "\n",
      "City Name:  newyork\n",
      "Information:  {'population': '8.623 million', 'fact': 'New York City comprises 5 boroughs sitting where the Hudson River meets the Atlantic Ocean.', 'country': 'USA'} \n",
      "\n"
     ]
    }
   ],
   "source": [
    "cities = {\n",
    "    \"karachi\" : {\n",
    "        \"population\" : \"14.91 million\",\n",
    "        \"fact\" : \"Karachi is the capital of the Pakistani province of Sindh.\",\n",
    "        \"country\" : \"Pakistan\"\n",
    "    },\n",
    "    \"sydney\" : {\n",
    "        \"population\" : \"5.23 million\",\n",
    "        \"fact\" : \"Sydney, capital of New South Wales and one of Australia's largest cities\",\n",
    "        \"country\" : \"Australia\"\n",
    "    },\n",
    "    \"newyork\" : {\n",
    "        \"population\" : \"8.623 million\",\n",
    "        \"fact\" : \"New York City comprises 5 boroughs sitting where the Hudson River meets the Atlantic Ocean.\",\n",
    "        \"country\" : \"USA\"\n",
    "    }\n",
    "}\n",
    "\n",
    "for key,value in cities.items():\n",
    "    print(\"City Name: \",key)\n",
    "    print(\"Information: \",value,\"\\n\")"
   ]
  },
  {
   "cell_type": "code",
   "execution_count": 3,
   "metadata": {},
   "outputs": [
    {
     "name": "stdout",
     "output_type": "stream",
     "text": [
      "Enter your age: 2\n",
      "Ticket is Free!\n",
      "Do you want to continue? Press y for yes Press any other key to exity\n",
      "Enter your age: 66\n",
      "Ticket price: $15\n",
      "Do you want to continue? Press y for yes Press any other key to exity\n",
      "Enter your age: 6\n",
      "Ticket price: $10\n",
      "Do you want to continue? Press y for yes Press any other key to exitn\n",
      "Program is terminated\n"
     ]
    }
   ],
   "source": [
    "redo = \"y\"\n",
    "while redo == \"y\":\n",
    "    age = int(input(\"Enter your age: \"))\n",
    "    if age < 3:\n",
    "        print(\"Ticket is Free!\")\n",
    "    elif age >= 3 and age <= 12:\n",
    "        print(\"Ticket price: $10\")\n",
    "    elif age > 12:\n",
    "        print(\"Ticket price: $15\")\n",
    "    else:\n",
    "        print(\"Invalid Input! \\n\")\n",
    "    redo = input(\"Do you want to continue? Press y for yes Press any other key to exit\")\n",
    "    if redo != \"y\":\n",
    "        print(\"Program is terminated\")\n",
    "    "
   ]
  },
  {
   "cell_type": "code",
   "execution_count": 5,
   "metadata": {},
   "outputs": [
    {
     "name": "stdout",
     "output_type": "stream",
     "text": [
      "Enter a book title: a study in scarlet\n",
      "One of my favorite books is a study in scarlet\n"
     ]
    }
   ],
   "source": [
    "def favorite_book(title):\n",
    "    print(\"One of my favorite books is \"+title)\n",
    "\n",
    "book = input(\"Enter a book title: \")\n",
    "favorite_book(book)"
   ]
  },
  {
   "cell_type": "code",
   "execution_count": 9,
   "metadata": {},
   "outputs": [
    {
     "name": "stdout",
     "output_type": "stream",
     "text": [
      "Guess the number from 1-30: 7\n",
      "You Guessed the lower Number!\n",
      "Your Remaning chances:  2\n",
      "Guess the number from 1-30: 10\n",
      "You Guessed the lower Number!\n",
      "Your Remaning chances:  1\n",
      "Guess the number from 1-30: 20\n",
      "You Guessed the lower Number!\n",
      "Your Remaning chances:  0\n",
      "\n",
      "Correct Number is:  30\n"
     ]
    }
   ],
   "source": [
    "import random\n",
    "chances = 0\n",
    "randNo = random.randint(1,30)\n",
    "while chances < 3:\n",
    "    num = int(input(\"Guess the number from 1-30: \"))\n",
    "    chances +=1\n",
    "    if num == randNo:\n",
    "        print(\"You Guessed the right Number!\")\n",
    "    elif num < randNo:\n",
    "        print(\"You Guessed the lower Number!\")\n",
    "    elif num > randNo:\n",
    "        print(\"You Guessed the greater Number!\")\n",
    "    print(\"Your Remaning chances: \", 3-chances)\n",
    "print(\"\\nCorrect Number is: \",randNo)"
   ]
  },
  {
   "cell_type": "code",
   "execution_count": null,
   "metadata": {},
   "outputs": [],
   "source": []
  }
 ],
 "metadata": {
  "kernelspec": {
   "display_name": "Python 3",
   "language": "python",
   "name": "python3"
  },
  "language_info": {
   "codemirror_mode": {
    "name": "ipython",
    "version": 3
   },
   "file_extension": ".py",
   "mimetype": "text/x-python",
   "name": "python",
   "nbconvert_exporter": "python",
   "pygments_lexer": "ipython3",
   "version": "3.7.3"
  }
 },
 "nbformat": 4,
 "nbformat_minor": 2
}
